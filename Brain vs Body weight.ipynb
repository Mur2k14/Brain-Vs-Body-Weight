{
 "cells": [
  {
   "cell_type": "markdown",
   "id": "80bde38b",
   "metadata": {},
   "source": [
    "# **IMPORTING THE NECESSARY LIBRARIES**"
   ]
  },
  {
   "cell_type": "code",
   "execution_count": 34,
   "id": "cd8d4d7a",
   "metadata": {},
   "outputs": [],
   "source": [
    "import pandas as pd\n",
    "import numpy as np\n",
    "import matplotlib.pyplot as plt\n",
    "import seaborn as sns"
   ]
  },
  {
   "cell_type": "markdown",
   "id": "b8f62370",
   "metadata": {},
   "source": [
    "**IMPROTING THE DATASET**"
   ]
  },
  {
   "cell_type": "code",
   "execution_count": 44,
   "id": "2ef4bb1c",
   "metadata": {},
   "outputs": [],
   "source": [
    "brainbody = pd.read_csv(\"/Users/muralik/Downloads/brain_body.txt\")\n",
    "brainbody.to_csv(\"brainbody.csv\",index=None)"
   ]
  },
  {
   "cell_type": "code",
   "execution_count": 45,
   "id": "a4849fff",
   "metadata": {},
   "outputs": [
    {
     "data": {
      "text/html": [
       "<div>\n",
       "<style scoped>\n",
       "    .dataframe tbody tr th:only-of-type {\n",
       "        vertical-align: middle;\n",
       "    }\n",
       "\n",
       "    .dataframe tbody tr th {\n",
       "        vertical-align: top;\n",
       "    }\n",
       "\n",
       "    .dataframe thead th {\n",
       "        text-align: right;\n",
       "    }\n",
       "</style>\n",
       "<table border=\"1\" class=\"dataframe\">\n",
       "  <thead>\n",
       "    <tr style=\"text-align: right;\">\n",
       "      <th></th>\n",
       "      <th>Brain</th>\n",
       "      <th>Body</th>\n",
       "    </tr>\n",
       "  </thead>\n",
       "  <tbody>\n",
       "    <tr>\n",
       "      <th>0</th>\n",
       "      <td>3.385</td>\n",
       "      <td>44.5</td>\n",
       "    </tr>\n",
       "    <tr>\n",
       "      <th>1</th>\n",
       "      <td>0.480</td>\n",
       "      <td>15.5</td>\n",
       "    </tr>\n",
       "    <tr>\n",
       "      <th>2</th>\n",
       "      <td>1.350</td>\n",
       "      <td>8.1</td>\n",
       "    </tr>\n",
       "    <tr>\n",
       "      <th>3</th>\n",
       "      <td>465.000</td>\n",
       "      <td>423.0</td>\n",
       "    </tr>\n",
       "    <tr>\n",
       "      <th>4</th>\n",
       "      <td>36.330</td>\n",
       "      <td>119.5</td>\n",
       "    </tr>\n",
       "    <tr>\n",
       "      <th>...</th>\n",
       "      <td>...</td>\n",
       "      <td>...</td>\n",
       "    </tr>\n",
       "    <tr>\n",
       "      <th>57</th>\n",
       "      <td>160.000</td>\n",
       "      <td>169.0</td>\n",
       "    </tr>\n",
       "    <tr>\n",
       "      <th>58</th>\n",
       "      <td>0.900</td>\n",
       "      <td>2.6</td>\n",
       "    </tr>\n",
       "    <tr>\n",
       "      <th>59</th>\n",
       "      <td>1.620</td>\n",
       "      <td>11.4</td>\n",
       "    </tr>\n",
       "    <tr>\n",
       "      <th>60</th>\n",
       "      <td>0.104</td>\n",
       "      <td>2.5</td>\n",
       "    </tr>\n",
       "    <tr>\n",
       "      <th>61</th>\n",
       "      <td>4.235</td>\n",
       "      <td>50.4</td>\n",
       "    </tr>\n",
       "  </tbody>\n",
       "</table>\n",
       "<p>62 rows × 2 columns</p>\n",
       "</div>"
      ],
      "text/plain": [
       "      Brain   Body\n",
       "0     3.385   44.5\n",
       "1     0.480   15.5\n",
       "2     1.350    8.1\n",
       "3   465.000  423.0\n",
       "4    36.330  119.5\n",
       "..      ...    ...\n",
       "57  160.000  169.0\n",
       "58    0.900    2.6\n",
       "59    1.620   11.4\n",
       "60    0.104    2.5\n",
       "61    4.235   50.4\n",
       "\n",
       "[62 rows x 2 columns]"
      ]
     },
     "execution_count": 45,
     "metadata": {},
     "output_type": "execute_result"
    }
   ],
   "source": [
    "brainbody"
   ]
  },
  {
   "cell_type": "code",
   "execution_count": 46,
   "id": "98c3193c",
   "metadata": {},
   "outputs": [
    {
     "data": {
      "text/plain": [
       "Index(['Brain', 'Body'], dtype='object')"
      ]
     },
     "execution_count": 46,
     "metadata": {},
     "output_type": "execute_result"
    }
   ],
   "source": [
    "brainbody.columns"
   ]
  },
  {
   "cell_type": "code",
   "execution_count": 103,
   "id": "ba86494b",
   "metadata": {},
   "outputs": [
    {
     "data": {
      "text/html": [
       "<div>\n",
       "<style scoped>\n",
       "    .dataframe tbody tr th:only-of-type {\n",
       "        vertical-align: middle;\n",
       "    }\n",
       "\n",
       "    .dataframe tbody tr th {\n",
       "        vertical-align: top;\n",
       "    }\n",
       "\n",
       "    .dataframe thead th {\n",
       "        text-align: right;\n",
       "    }\n",
       "</style>\n",
       "<table border=\"1\" class=\"dataframe\">\n",
       "  <thead>\n",
       "    <tr style=\"text-align: right;\">\n",
       "      <th></th>\n",
       "      <th>Brain</th>\n",
       "      <th>Body</th>\n",
       "    </tr>\n",
       "  </thead>\n",
       "  <tbody>\n",
       "    <tr>\n",
       "      <th>count</th>\n",
       "      <td>62.000000</td>\n",
       "      <td>62.000000</td>\n",
       "    </tr>\n",
       "    <tr>\n",
       "      <th>mean</th>\n",
       "      <td>198.789984</td>\n",
       "      <td>283.134194</td>\n",
       "    </tr>\n",
       "    <tr>\n",
       "      <th>std</th>\n",
       "      <td>899.158011</td>\n",
       "      <td>930.278942</td>\n",
       "    </tr>\n",
       "    <tr>\n",
       "      <th>min</th>\n",
       "      <td>0.005000</td>\n",
       "      <td>0.140000</td>\n",
       "    </tr>\n",
       "    <tr>\n",
       "      <th>25%</th>\n",
       "      <td>0.600000</td>\n",
       "      <td>4.250000</td>\n",
       "    </tr>\n",
       "    <tr>\n",
       "      <th>50%</th>\n",
       "      <td>3.342500</td>\n",
       "      <td>17.250000</td>\n",
       "    </tr>\n",
       "    <tr>\n",
       "      <th>75%</th>\n",
       "      <td>48.202500</td>\n",
       "      <td>166.000000</td>\n",
       "    </tr>\n",
       "    <tr>\n",
       "      <th>max</th>\n",
       "      <td>6654.000000</td>\n",
       "      <td>5712.000000</td>\n",
       "    </tr>\n",
       "  </tbody>\n",
       "</table>\n",
       "</div>"
      ],
      "text/plain": [
       "             Brain         Body\n",
       "count    62.000000    62.000000\n",
       "mean    198.789984   283.134194\n",
       "std     899.158011   930.278942\n",
       "min       0.005000     0.140000\n",
       "25%       0.600000     4.250000\n",
       "50%       3.342500    17.250000\n",
       "75%      48.202500   166.000000\n",
       "max    6654.000000  5712.000000"
      ]
     },
     "execution_count": 103,
     "metadata": {},
     "output_type": "execute_result"
    }
   ],
   "source": [
    "brainbody.describe()"
   ]
  },
  {
   "cell_type": "markdown",
   "id": "29b26f84",
   "metadata": {},
   "source": [
    "**VISUALIZING THE DATA**"
   ]
  },
  {
   "cell_type": "code",
   "execution_count": 47,
   "id": "e746fbe0",
   "metadata": {},
   "outputs": [
    {
     "data": {
      "image/png": "[encoded data removed]",
      "text/plain": [
       "<Figure size 432x288 with 1 Axes>"
      ]
     },
     "metadata": {
      "needs_background": "light"
     },
     "output_type": "display_data"
    }
   ],
   "source": [
    "brainbody.plot(x=\"Brain\",y=\"Body\",style=\"o\")\n",
    "plt.title(\"Brain vs Body\")\n",
    "plt.xlabel(\"Brain\")\n",
    "plt.ylabel(\"Body\")\n",
    "plt.show()"
   ]
  },
  {
   "cell_type": "code",
   "execution_count": 77,
   "id": "47e4e066",
   "metadata": {},
   "outputs": [],
   "source": [
    "Xval = brainbody.iloc[:,:1].values"
   ]
  },
  {
   "cell_type": "code",
   "execution_count": 78,
   "id": "2f90c683",
   "metadata": {},
   "outputs": [],
   "source": [
    "Yval = brainbody.iloc[:,1:].values"
   ]
  },
  {
   "cell_type": "code",
   "execution_count": 79,
   "id": "67cf70a5",
   "metadata": {},
   "outputs": [
    {
     "name": "stdout",
     "output_type": "stream",
     "text": [
      "[[4.450e+01 1.550e+01 8.100e+00 4.230e+02 1.195e+02 1.150e+02 9.820e+01\n",
      "  5.500e+00 5.800e+01 6.400e+00 4.000e+00 5.700e+00 6.600e+00 1.400e-01\n",
      "  1.000e+00 1.080e+01 1.230e+01 6.300e+00 4.603e+03 3.000e-01 4.190e+02\n",
      "  6.550e+02 3.500e+00 1.150e+02 2.560e+01 5.000e+00 1.750e+01 6.800e+02\n",
      "  4.060e+02 3.250e+02 1.230e+01 1.320e+03 5.712e+03 3.900e+00 1.790e+02\n",
      "  5.600e+01 1.700e+01 1.000e+00 4.000e-01 2.500e-01 1.250e+01 4.900e+02\n",
      "  1.210e+01 1.750e+02 1.570e+02 4.400e+02 1.795e+02 2.400e+00 8.100e+01\n",
      "  2.100e+01 3.920e+01 1.900e+00 1.200e+00 3.000e+00 3.300e-01 1.800e+02\n",
      "  2.500e+01 1.690e+02 2.600e+00 1.140e+01 2.500e+00 5.040e+01]]\n"
     ]
    }
   ],
   "source": [
    "print(Yval.reshape((1,len(Yval))))"
   ]
  },
  {
   "cell_type": "code",
   "execution_count": 80,
   "id": "10a56f60",
   "metadata": {},
   "outputs": [
    {
     "name": "stdout",
     "output_type": "stream",
     "text": [
      "[[3.385e+00 4.800e-01 1.350e+00 4.650e+02 3.633e+01 2.766e+01 1.483e+01\n",
      "  1.040e+00 4.190e+00 4.250e-01 1.010e-01 9.200e-01 1.000e+00 5.000e-03\n",
      "  6.000e-02 3.500e+00 2.000e+00 1.700e+00 2.547e+03 2.300e-02 1.871e+02\n",
      "  5.210e+02 7.850e-01 1.000e+01 3.300e+00 2.000e-01 1.410e+00 5.290e+02\n",
      "  2.070e+02 8.500e+01 7.500e-01 6.200e+01 6.654e+03 3.500e+00 6.800e+00\n",
      "  3.500e+01 4.050e+00 1.200e-01 2.300e-02 1.000e-02 1.400e+00 2.500e+02\n",
      "  2.500e+00 5.550e+01 1.000e+02 5.216e+01 1.055e+01 5.500e-01 6.000e+01\n",
      "  3.600e+00 4.288e+00 2.800e-01 7.500e-02 1.220e-01 4.800e-02 1.920e+02\n",
      "  3.000e+00 1.600e+02 9.000e-01 1.620e+00 1.040e-01 4.235e+00]]\n"
     ]
    }
   ],
   "source": [
    "print(Xval.reshape((1,len(Xval))))"
   ]
  },
  {
   "cell_type": "markdown",
   "id": "36e3b3b9",
   "metadata": {},
   "source": [
    "**SPLITTING THE DATA INTO TRAINING AND TEST SET**"
   ]
  },
  {
   "cell_type": "code",
   "execution_count": 81,
   "id": "ee65df83",
   "metadata": {},
   "outputs": [],
   "source": [
    "from sklearn.model_selection import train_test_split\n",
    "X_train,X_test,Y_train,Y_test = train_test_split(Xval,Yval,test_size=0.2,random_state=42)"
   ]
  },
  {
   "cell_type": "code",
   "execution_count": 82,
   "id": "5bde9b06",
   "metadata": {},
   "outputs": [
    {
     "name": "stdout",
     "output_type": "stream",
     "text": [
      "[[5.000e-03 3.500e+00 6.800e+00 4.650e+02 1.700e+00 4.800e-02 4.190e+00\n",
      "  1.483e+01 6.200e+01 3.633e+01 5.216e+01 2.300e-02 7.500e-02 4.050e+00\n",
      "  1.220e-01 2.500e+02 9.000e-01 3.500e+00 1.400e+00 5.290e+02 1.410e+00\n",
      "  3.300e+00 1.000e+02 9.200e-01 6.654e+03 1.920e+02 5.550e+01 1.200e-01\n",
      "  8.500e+01 1.055e+01 4.800e-01 5.210e+02 1.350e+00 3.600e+00 1.000e-02\n",
      "  3.500e+01 1.000e+01 1.040e-01 1.010e-01 7.850e-01 2.547e+03 4.235e+00\n",
      "  1.871e+02 1.040e+00 2.500e+00 6.000e-02 2.070e+02 2.800e-01 2.300e-02]]\n"
     ]
    }
   ],
   "source": [
    "print(X_train.reshape((1,len(X_train))))"
   ]
  },
  {
   "cell_type": "code",
   "execution_count": 83,
   "id": "56f1dd61",
   "metadata": {},
   "outputs": [
    {
     "name": "stdout",
     "output_type": "stream",
     "text": [
      "[[  4.288   3.      3.385 160.     27.66   60.      2.      1.      0.2\n",
      "    1.62    0.75    0.425   0.55 ]]\n"
     ]
    }
   ],
   "source": [
    "print(X_test.reshape((1,len(X_test))))"
   ]
  },
  {
   "cell_type": "code",
   "execution_count": 84,
   "id": "85716c4c",
   "metadata": {},
   "outputs": [
    {
     "name": "stdout",
     "output_type": "stream",
     "text": [
      "[[ 39.2  25.   44.5 169.  115.   81.   12.3   6.6   5.   11.4  12.3   6.4\n",
      "    2.4]]\n"
     ]
    }
   ],
   "source": [
    "print(Y_test.reshape(1,len(Y_test)))"
   ]
  },
  {
   "cell_type": "code",
   "execution_count": 85,
   "id": "6eeb6e84",
   "metadata": {},
   "outputs": [
    {
     "data": {
      "text/plain": [
       "array([[ 39.2],\n",
       "       [ 25. ],\n",
       "       [ 44.5],\n",
       "       [169. ],\n",
       "       [115. ],\n",
       "       [ 81. ],\n",
       "       [ 12.3],\n",
       "       [  6.6],\n",
       "       [  5. ],\n",
       "       [ 11.4],\n",
       "       [ 12.3],\n",
       "       [  6.4],\n",
       "       [  2.4]])"
      ]
     },
     "execution_count": 85,
     "metadata": {},
     "output_type": "execute_result"
    }
   ],
   "source": [
    "Y_test = np.array(Y_test)\n",
    "Y_test"
   ]
  },
  {
   "cell_type": "code",
   "execution_count": 86,
   "id": "e42788ae",
   "metadata": {},
   "outputs": [
    {
     "name": "stdout",
     "output_type": "stream",
     "text": [
      "[[1.400e-01 3.900e+00 1.790e+02 4.230e+02 6.300e+00 3.300e-01 5.800e+01\n",
      "  9.820e+01 1.320e+03 1.195e+02 4.400e+02 3.000e-01 1.200e+00 1.700e+01\n",
      "  3.000e+00 4.900e+02 2.600e+00 1.080e+01 1.250e+01 6.800e+02 1.750e+01\n",
      "  2.560e+01 1.570e+02 5.700e+00 5.712e+03 1.800e+02 1.750e+02 1.000e+00\n",
      "  3.250e+02 1.795e+02 1.550e+01 6.550e+02 8.100e+00 2.100e+01 2.500e-01\n",
      "  5.600e+01 1.150e+02 2.500e+00 4.000e+00 3.500e+00 4.603e+03 5.040e+01\n",
      "  4.190e+02 5.500e+00 1.210e+01 1.000e+00 4.060e+02 1.900e+00 4.000e-01]]\n"
     ]
    }
   ],
   "source": [
    "print(Y_train.reshape(1,len(Y_train)))"
   ]
  },
  {
   "cell_type": "markdown",
   "id": "255c50ad",
   "metadata": {},
   "source": [
    "**APPLYING THE ML MODEL TO THE DATASET**"
   ]
  },
  {
   "cell_type": "code",
   "execution_count": 87,
   "id": "a71bc150",
   "metadata": {},
   "outputs": [
    {
     "data": {
      "text/html": [
       "<style>#sk-container-id-2 {color: black;background-color: white;}#sk-container-id-2 pre{padding: 0;}#sk-container-id-2 div.sk-toggleable {background-color: white;}#sk-container-id-2 label.sk-toggleable__label {cursor: pointer;display: block;width: 100%;margin-bottom: 0;padding: 0.3em;box-sizing: border-box;text-align: center;}#sk-container-id-2 label.sk-toggleable__label-arrow:before {content: \"▸\";float: left;margin-right: 0.25em;color: #696969;}#sk-container-id-2 label.sk-toggleable__label-arrow:hover:before {color: black;}#sk-container-id-2 div.sk-estimator:hover label.sk-toggleable__label-arrow:before {color: black;}#sk-container-id-2 div.sk-toggleable__content {max-height: 0;max-width: 0;overflow: hidden;text-align: left;background-color: #f0f8ff;}#sk-container-id-2 div.sk-toggleable__content pre {margin: 0.2em;color: black;border-radius: 0.25em;background-color: #f0f8ff;}#sk-container-id-2 input.sk-toggleable__control:checked~div.sk-toggleable__content {max-height: 200px;max-width: 100%;overflow: auto;}#sk-container-id-2 input.sk-toggleable__control:checked~label.sk-toggleable__label-arrow:before {content: \"▾\";}#sk-container-id-2 div.sk-estimator input.sk-toggleable__control:checked~label.sk-toggleable__label {background-color: #d4ebff;}#sk-container-id-2 div.sk-label input.sk-toggleable__control:checked~label.sk-toggleable__label {background-color: #d4ebff;}#sk-container-id-2 input.sk-hidden--visually {border: 0;clip: rect(1px 1px 1px 1px);clip: rect(1px, 1px, 1px, 1px);height: 1px;margin: -1px;overflow: hidden;padding: 0;position: absolute;width: 1px;}#sk-container-id-2 div.sk-estimator {font-family: monospace;background-color: #f0f8ff;border: 1px dotted black;border-radius: 0.25em;box-sizing: border-box;margin-bottom: 0.5em;}#sk-container-id-2 div.sk-estimator:hover {background-color: #d4ebff;}#sk-container-id-2 div.sk-parallel-item::after {content: \"\";width: 100%;border-bottom: 1px solid gray;flex-grow: 1;}#sk-container-id-2 div.sk-label:hover label.sk-toggleable__label {background-color: #d4ebff;}#sk-container-id-2 div.sk-serial::before {content: \"\";position: absolute;border-left: 1px solid gray;box-sizing: border-box;top: 0;bottom: 0;left: 50%;z-index: 0;}#sk-container-id-2 div.sk-serial {display: flex;flex-direction: column;align-items: center;background-color: white;padding-right: 0.2em;padding-left: 0.2em;position: relative;}#sk-container-id-2 div.sk-item {position: relative;z-index: 1;}#sk-container-id-2 div.sk-parallel {display: flex;align-items: stretch;justify-content: center;background-color: white;position: relative;}#sk-container-id-2 div.sk-item::before, #sk-container-id-2 div.sk-parallel-item::before {content: \"\";position: absolute;border-left: 1px solid gray;box-sizing: border-box;top: 0;bottom: 0;left: 50%;z-index: -1;}#sk-container-id-2 div.sk-parallel-item {display: flex;flex-direction: column;z-index: 1;position: relative;background-color: white;}#sk-container-id-2 div.sk-parallel-item:first-child::after {align-self: flex-end;width: 50%;}#sk-container-id-2 div.sk-parallel-item:last-child::after {align-self: flex-start;width: 50%;}#sk-container-id-2 div.sk-parallel-item:only-child::after {width: 0;}#sk-container-id-2 div.sk-dashed-wrapped {border: 1px dashed gray;margin: 0 0.4em 0.5em 0.4em;box-sizing: border-box;padding-bottom: 0.4em;background-color: white;}#sk-container-id-2 div.sk-label label {font-family: monospace;font-weight: bold;display: inline-block;line-height: 1.2em;}#sk-container-id-2 div.sk-label-container {text-align: center;}#sk-container-id-2 div.sk-container {/* jupyter's `normalize.less` sets `[hidden] { display: none; }` but bootstrap.min.css set `[hidden] { display: none !important; }` so we also need the `!important` here to be able to override the default hidden behavior on the sphinx rendered scikit-learn.org. See: https://github.com/scikit-learn/scikit-learn/issues/21755 */display: inline-block !important;position: relative;}#sk-container-id-2 div.sk-text-repr-fallback {display: none;}</style><div id=\"sk-container-id-2\" class=\"sk-top-container\"><div class=\"sk-text-repr-fallback\"><pre>LinearRegression()</pre><b>In a Jupyter environment, please rerun this cell to show the HTML representation or trust the notebook. <br />On GitHub, the HTML representation is unable to render, please try loading this page with nbviewer.org.</b></div><div class=\"sk-container\" hidden><div class=\"sk-item\"><div class=\"sk-estimator sk-toggleable\"><input class=\"sk-toggleable__control sk-hidden--visually\" id=\"sk-estimator-id-2\" type=\"checkbox\" checked><label for=\"sk-estimator-id-2\" class=\"sk-toggleable__label sk-toggleable__label-arrow\">LinearRegression</label><div class=\"sk-toggleable__content\"><pre>LinearRegression()</pre></div></div></div></div></div>"
      ],
      "text/plain": [
       "LinearRegression()"
      ]
     },
     "execution_count": 87,
     "metadata": {},
     "output_type": "execute_result"
    }
   ],
   "source": [
    "from sklearn.linear_model import LinearRegression\n",
    "LinearRegress = LinearRegression()\n",
    "LinearRegress.fit(X_train,Y_train)"
   ]
  },
  {
   "cell_type": "code",
   "execution_count": 97,
   "id": "8f0bcf45",
   "metadata": {},
   "outputs": [
    {
     "data": {
      "text/plain": [
       "array([[0.96226945]])"
      ]
     },
     "execution_count": 97,
     "metadata": {},
     "output_type": "execute_result"
    }
   ],
   "source": [
    "LinearRegress.coef_"
   ]
  },
  {
   "cell_type": "markdown",
   "id": "9bc11b90",
   "metadata": {},
   "source": [
    "**PREDICTING THE RESULT OF THE MODEL**"
   ]
  },
  {
   "cell_type": "code",
   "execution_count": 88,
   "id": "0cc12903",
   "metadata": {},
   "outputs": [],
   "source": [
    "Y_pred = LinearRegress.predict(X_test)"
   ]
  },
  {
   "cell_type": "code",
   "execution_count": 89,
   "id": "20e874c5",
   "metadata": {},
   "outputs": [
    {
     "data": {
      "text/plain": [
       "array([[114.72117448],\n",
       "       [113.48177142],\n",
       "       [113.85224516],\n",
       "       [264.55807577],\n",
       "       [137.21133617],\n",
       "       [168.33113033],\n",
       "       [112.51950197],\n",
       "       [111.55723251],\n",
       "       [110.78741695],\n",
       "       [112.15383957],\n",
       "       [111.31666515],\n",
       "       [111.00392758],\n",
       "       [111.12421126]])"
      ]
     },
     "execution_count": 89,
     "metadata": {},
     "output_type": "execute_result"
    }
   ],
   "source": [
    "Y_pred"
   ]
  },
  {
   "cell_type": "code",
   "execution_count": 90,
   "id": "8bdde43a",
   "metadata": {},
   "outputs": [
    {
     "name": "stdout",
     "output_type": "stream",
     "text": [
      "The accuracy score of the model is -251.87811261650754 %\n"
     ]
    }
   ],
   "source": [
    "from sklearn.metrics import r2_score\n",
    "Accuracy = r2_score(Y_test,Y_pred)\n",
    "print(f\"The accuracy score of the model is {Accuracy * 100} %\")"
   ]
  },
  {
   "cell_type": "code",
   "execution_count": 93,
   "id": "238833aa",
   "metadata": {},
   "outputs": [
    {
     "data": {
      "text/plain": [
       "0.8719062671177942"
      ]
     },
     "execution_count": 93,
     "metadata": {},
     "output_type": "execute_result"
    }
   ],
   "source": [
    "LinearRegress.score(X_train,Y_train)"
   ]
  },
  {
   "cell_type": "code",
   "execution_count": 96,
   "id": "fa943bdf",
   "metadata": {},
   "outputs": [
    {
     "data": {
      "text/plain": [
       "1.0"
      ]
     },
     "execution_count": 96,
     "metadata": {},
     "output_type": "execute_result"
    }
   ],
   "source": [
    "LinearRegress.score(X_test,Y_pred)"
   ]
  },
  {
   "cell_type": "code",
   "execution_count": null,
   "id": "d199a836",
   "metadata": {},
   "outputs": [],
   "source": []
  }
 ],
 "metadata": {
  "kernelspec": {
   "display_name": "Python 3 (ipykernel)",
   "language": "python",
   "name": "python3"
  },
  "language_info": {
   "codemirror_mode": {
    "name": "ipython",
    "version": 3
   },
   "file_extension": ".py",
   "mimetype": "text/x-python",
   "name": "python",
   "nbconvert_exporter": "python",
   "pygments_lexer": "ipython3",
   "version": "3.9.7"
  }
 },
 "nbformat": 4,
 "nbformat_minor": 5
}
